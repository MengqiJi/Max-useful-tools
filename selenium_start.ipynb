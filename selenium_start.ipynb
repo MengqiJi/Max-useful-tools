{
 "cells": [
  {
   "cell_type": "code",
   "execution_count": 1,
   "metadata": {},
   "outputs": [],
   "source": [
    "import pandas as pd \n",
    "import re\n",
    "import numpy as np\n",
    "import datetime\n",
    "from openpyxl.utils import get_column_letter\n",
    "#from lib.mywait import mywait\n",
    "import sys\n",
    "from selenium.webdriver.common.keys import Keys\n",
    "import time\n",
    "from datetime import datetime\n",
    "from selenium.webdriver.support.select import Select\n",
    "from selenium import webdriver\n",
    "import os\n",
    "from bs4 import BeautifulSoup\n",
    "from lib.excel_formatter import formatter\n",
    "from lib.excel_appender import appender\n",
    "#from shutil import copyfile\n",
    "from lib.maxselfdef import time_format, js_wait, change_NO_to_hyperlink, apply, extract_text, check_environment_var"
   ]
  },
  {
   "cell_type": "code",
   "execution_count": 2,
   "metadata": {},
   "outputs": [],
   "source": [
    "from selenium.webdriver.chrome.options import Options\n",
    "options = Options()\n",
    "#userProfile  = 'C:\\\\Users\\\\F403650\\\\' #https://stackoverflow.com/questions/38193554/selenium-chromedriver-wont-launch-url-if-another-chrome-instance-is-open\n",
    "#options.add_argument(\"user-data-dir=\"+userProfile)\n",
    "options.add_argument(\"--start-maximized\")\n",
    "options.add_experimental_option(\"useAutomationExtension\", False)"
   ]
  },
  {
   "cell_type": "markdown",
   "metadata": {},
   "source": [
    "# handle extension block"
   ]
  },
  {
   "cell_type": "code",
   "execution_count": 5,
   "metadata": {},
   "outputs": [],
   "source": [
    "environment_var_dict = check_environment_var([\"chromedriver\"])\n",
    "url = \"http://www.google.com\"\n",
    "driver = webdriver.Chrome(environment_var_dict[\"chromedriver\"],options= options)\n",
    "driver.get(url)"
   ]
  },
  {
   "cell_type": "code",
   "execution_count": null,
   "metadata": {},
   "outputs": [],
   "source": [
    "#https://stackoverflow.com/questions/43079018/selenium-chromedriver-failed-to-load-extension\n",
    "#old version\n",
    "# capabilities = { 'chromeOptions':  { 'useAutomationExtension': False}}\n",
    "# driver = webdriver.Chrome(environment_var_dict[\"chromedriver\"],desired_capabilities = capabilities)\n",
    "# driver.get(url)\n",
    "# driver.maximize_window()"
   ]
  },
  {
   "cell_type": "code",
   "execution_count": null,
   "metadata": {},
   "outputs": [],
   "source": []
  }
 ],
 "metadata": {
  "kernelspec": {
   "display_name": "Python 3",
   "language": "python",
   "name": "python3"
  },
  "language_info": {
   "codemirror_mode": {
    "name": "ipython",
    "version": 3
   },
   "file_extension": ".py",
   "mimetype": "text/x-python",
   "name": "python",
   "nbconvert_exporter": "python",
   "pygments_lexer": "ipython3",
   "version": "3.6.4"
  }
 },
 "nbformat": 4,
 "nbformat_minor": 2
}
